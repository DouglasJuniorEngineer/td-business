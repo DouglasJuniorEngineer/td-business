{
 "cells": [
  {
   "cell_type": "code",
   "execution_count": 15,
   "id": "116ab353",
   "metadata": {},
   "outputs": [
    {
     "name": "stdout",
     "output_type": "stream",
     "text": [
      "Arquivo combinado salvo em: c:\\Users\\douglas.junior\\Downloads\\base_data_tb_business\\td-business\\base_ETL_files\\base_sales.csv\n"
     ]
    }
   ],
   "source": [
    "import os\n",
    "import glob\n",
    "import calendar\n",
    "import pandas as pd\n",
    "\n",
    "input_folder = r'c:\\Users\\douglas.junior\\Downloads\\base_data_tb_business\\td-business\\base_files_analys_test'\n",
    "output_folder = r'c:\\Users\\douglas.junior\\Downloads\\base_data_tb_business\\td-business\\base_ETL_files'\n",
    "\n",
    "output_file = os.path.join(output_folder, 'base_sales.csv')\n",
    "\n",
    "csv_files = glob.glob(os.path.join(input_folder, 'base_*.csv'))\n",
    "\n",
    "df_list = [pd.read_csv(f) for f in csv_files]\n",
    "df_combined = pd.concat(df_list, ignore_index=True)\n",
    "\n",
    "df_combined.to_csv(output_file, index=False)\n",
    "print(f'Arquivo combinado salvo em: {output_file}')"
   ]
  },
  {
   "cell_type": "code",
   "execution_count": 17,
   "id": "2af29745",
   "metadata": {},
   "outputs": [
    {
     "name": "stdout",
     "output_type": "stream",
     "text": [
      "Arquivo transformado salvo em: c:\\Users\\douglas.junior\\Downloads\\base_data_tb_business\\td-business\\base_ETL_files\\goals_transformed.csv\n"
     ]
    }
   ],
   "source": [
    "input_file = os.path.join(input_folder, 'goals.csv')\n",
    "output_file = os.path.join(output_folder, 'goals_transformed.csv')\n",
    "\n",
    "df = pd.read_csv(input_file)\n",
    "\n",
    "df_melted = df.melt(id_vars=['Vendedor'], var_name='Período', value_name='Valor')\n",
    "df_melted.rename(columns={'Vendedor': 'Vendedores', 'Valor': 'meta_mensal'}, inplace=True)\n",
    "df_melted['Vendedores'] = df_melted['Vendedores'].str.title()\n",
    "df_melted['seller_id'] = df_melted['Vendedores'].str.split(' ').str[0]\n",
    "\n",
    "df_melted['meta_mensal'] = df_melted['meta_mensal'].replace({'R\\$': ''}, regex=True).astype(float)\n",
    "\n",
    "df_melted['ano'] = df_melted['Período'].str[:4].astype(int)\n",
    "df_melted['mes'] = df_melted['Período'].str[4:6].astype(int)\n",
    "\n",
    "df_melted['dias_mes'] = df_melted.apply(lambda row: calendar.monthrange(row['ano'], row['mes'])[1], axis=1)\n",
    "\n",
    "df_melted['meta_diaria'] = (df_melted['meta_mensal'] / df_melted['dias_mes']).round(2)\n",
    "\n",
    "df_melted = df_melted.drop(columns=['ano', 'mes', 'dias_mes'])\n",
    "\n",
    "df_melted = df_melted[['seller_id', 'Vendedores', 'Período', 'meta_mensal', 'meta_diaria']]\n",
    "\n",
    "df_melted.to_csv(output_file, index=False)\n",
    "print(f'Arquivo transformado salvo em: {output_file}')"
   ]
  },
  {
   "cell_type": "code",
   "execution_count": 18,
   "id": "3d9b122a",
   "metadata": {},
   "outputs": [
    {
     "name": "stdout",
     "output_type": "stream",
     "text": [
      "Arquivo transformado salvo em: c:\\Users\\douglas.junior\\Downloads\\base_data_tb_business\\td-business\\base_ETL_files\\products_transformed.csv\n"
     ]
    }
   ],
   "source": [
    "input_file = os.path.join(input_folder, 'product_values.csv')\n",
    "output_file = os.path.join(output_folder, 'products_transformed.csv')\n",
    "\n",
    "df = pd.read_csv(input_file)\n",
    "\n",
    "df_melted = df.melt(id_vars=['Categoria','Produto'], var_name='Período', value_name='Valor')\n",
    "\n",
    "df_melted.to_csv(output_file, index=False)\n",
    "print(f'Arquivo transformado salvo em: {output_file}')"
   ]
  },
  {
   "cell_type": "code",
   "execution_count": 19,
   "id": "2a21949a",
   "metadata": {},
   "outputs": [
    {
     "name": "stdout",
     "output_type": "stream",
     "text": [
      "Arquivo transformado salvo em: c:\\Users\\douglas.junior\\Downloads\\base_data_tb_business\\td-business\\base_ETL_files\\clients_transformed.csv\n"
     ]
    }
   ],
   "source": [
    "input_file = os.path.join(input_folder, 'client_seller.csv')\n",
    "output_file = os.path.join(output_folder, 'clients_transformed.csv')\n",
    "\n",
    "df = pd.read_csv(input_file)\n",
    "df['seller_id'] = df['Vendedor'].str.split(' ').str[0]\n",
    "\n",
    "df.to_csv(output_file, index=False)\n",
    "print(f'Arquivo transformado salvo em: {output_file}')"
   ]
  }
 ],
 "metadata": {
  "kernelspec": {
   "display_name": ".venv",
   "language": "python",
   "name": "python3"
  },
  "language_info": {
   "codemirror_mode": {
    "name": "ipython",
    "version": 3
   },
   "file_extension": ".py",
   "mimetype": "text/x-python",
   "name": "python",
   "nbconvert_exporter": "python",
   "pygments_lexer": "ipython3",
   "version": "3.11.9"
  }
 },
 "nbformat": 4,
 "nbformat_minor": 5
}
